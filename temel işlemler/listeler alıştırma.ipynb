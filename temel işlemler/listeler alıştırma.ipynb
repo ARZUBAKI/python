{
  "metadata": {
    "language_info": {
      "codemirror_mode": {
        "name": "python",
        "version": 3
      },
      "file_extension": ".py",
      "mimetype": "text/x-python",
      "name": "python",
      "nbconvert_exporter": "python",
      "pygments_lexer": "ipython3",
      "version": "3.8"
    },
    "kernelspec": {
      "name": "python",
      "display_name": "Python (Pyodide)",
      "language": "python"
    }
  },
  "nbformat_minor": 4,
  "nbformat": 4,
  "cells": [
    {
      "cell_type": "markdown",
      "source": "# LİSTELER",
      "metadata": {}
    },
    {
      "cell_type": "markdown",
      "source": "Bu bölümde yapacağımız çalışmalar şunlardır:\n1. Liste oluşturma\n\n2. indeksleme ve parçalama\n\n3.Temel liste metodları ve işlemleri\n\n4. iç içe listeler\n",
      "metadata": {}
    },
    {
      "cell_type": "markdown",
      "source": "## 1.Liste oluşturma",
      "metadata": {}
    },
    {
      "cell_type": "code",
      "source": "# liste değişkeni. Değişik veri tiplerinden değerleri saklayabiliyoruz.\nliste=  [3,4,5,6, \"Elma\",3.14,5.324]\nliste",
      "metadata": {
        "trusted": true
      },
      "execution_count": null,
      "outputs": []
    },
    {
      "cell_type": "code",
      "source": "liste2 = [\"muz\",\"çilek\",\"kayısı\"]\nliste2",
      "metadata": {
        "trusted": true
      },
      "execution_count": null,
      "outputs": []
    },
    {
      "cell_type": "markdown",
      "source": "Metin olarak belirtildiğinde \"\" işareti kuyllanılır.\nifadenin başına # geldiğinde yorum anlamı kazanır.",
      "metadata": {}
    },
    {
      "cell_type": "markdown",
      "source": "boş liste için parantez aç-kapa yeterlidir. Örneğin; ",
      "metadata": {}
    },
    {
      "cell_type": "code",
      "source": "bosliste= []",
      "metadata": {
        "trusted": true
      },
      "execution_count": null,
      "outputs": []
    },
    {
      "cell_type": "code",
      "source": "#Len komutu listeler üzerinde kullanılabilir.\nliste3= [\"Haydar\",\"Hatice\",\"nazlı\",\"aslı\",\"arzu\",\"sultan\",\"songül\",\"aydanur\"]\nlen(liste3)",
      "metadata": {
        "trusted": true
      },
      "execution_count": null,
      "outputs": []
    },
    {
      "cell_type": "markdown",
      "source": "# Değişkenlerle alakalı bazı kurallar",
      "metadata": {}
    },
    {
      "cell_type": "markdown",
      "source": "    değişkenler tanımlarken Türkçe terim kullanılmaz\n     değişken yazılırken araya boşluk girmez.\n ",
      "metadata": {}
    },
    {
      "cell_type": "code",
      "source": "#3.eleman\nliste3= [\"nazlı\",\"Aslı\",\"Arzu\",\"Sultan\",\"Songül\",\"Aydanur\"]\nliste[3]",
      "metadata": {
        "trusted": true
      },
      "execution_count": null,
      "outputs": []
    },
    {
      "cell_type": "code",
      "source": "#ilk eleman\nliste[-len (1,2,3,4,5,6,7,8)]",
      "metadata": {
        "trusted": true
      },
      "execution_count": null,
      "outputs": []
    },
    {
      "cell_type": "markdown",
      "source": "Listeye yeni bir eleman eklenirken + işareti kullanılır.\nörnek; +[Ali]",
      "metadata": {}
    },
    {
      "cell_type": "code",
      "source": "",
      "metadata": {},
      "execution_count": null,
      "outputs": []
    }
  ]
}